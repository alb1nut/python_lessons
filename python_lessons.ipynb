{
  "nbformat": 4,
  "nbformat_minor": 0,
  "metadata": {
    "colab": {
      "provenance": []
    },
    "kernelspec": {
      "name": "python3",
      "display_name": "Python 3"
    },
    "language_info": {
      "name": "python"
    }
  },
  "cells": [
    {
      "cell_type": "markdown",
      "source": [
        "# Variables"
      ],
      "metadata": {
        "id": "e7ENln6BPFHS"
      }
    },
    {
      "cell_type": "markdown",
      "source": [
        "###### Containers to store information"
      ],
      "metadata": {
        "id": "953f9nnIPL5O"
      }
    },
    {
      "cell_type": "markdown",
      "source": [
        "Types of Information to store in a variable :\n",
        "\n",
        "1. Int- 1,2,3,4,5,6,7,8,9\n",
        "2. String - salt, I am going to school, Hello World,\n",
        "\n",
        "Steps to Create a Variable:\n",
        "1. Give it a meaningful name\n",
        "2. equal sign\n",
        "3. the value( Int, String)"
      ],
      "metadata": {
        "id": "icmwdSpBP5_3"
      }
    },
    {
      "cell_type": "code",
      "source": [
        "age = 25"
      ],
      "metadata": {
        "id": "msNLOMVvPXh7"
      },
      "execution_count": null,
      "outputs": []
    },
    {
      "cell_type": "code",
      "source": [
        "age"
      ],
      "metadata": {
        "colab": {
          "base_uri": "https://localhost:8080/"
        },
        "id": "vYYOEdboQmX-",
        "outputId": "b85e1844-c63f-49e0-afc3-3b94d7e415e8"
      },
      "execution_count": null,
      "outputs": [
        {
          "output_type": "execute_result",
          "data": {
            "text/plain": [
              "25"
            ]
          },
          "metadata": {},
          "execution_count": 11
        }
      ]
    },
    {
      "cell_type": "code",
      "source": [
        "lastName = \"Dovlo\""
      ],
      "metadata": {
        "id": "KUbUUSXQQ2bk"
      },
      "execution_count": null,
      "outputs": []
    },
    {
      "cell_type": "code",
      "source": [
        "lastName"
      ],
      "metadata": {
        "colab": {
          "base_uri": "https://localhost:8080/",
          "height": 35
        },
        "id": "P9q9JilPRMJ-",
        "outputId": "23d315dc-c4f4-4a64-d835-b075c45897ea"
      },
      "execution_count": null,
      "outputs": [
        {
          "output_type": "execute_result",
          "data": {
            "text/plain": [
              "'Dovlo'"
            ],
            "application/vnd.google.colaboratory.intrinsic+json": {
              "type": "string"
            }
          },
          "metadata": {},
          "execution_count": 19
        }
      ]
    },
    {
      "cell_type": "code",
      "source": [
        "Data TYpes:\n",
        "\n",
        "1. Strings\n",
        "2. Integers / Floats\n",
        "3. Lists\n",
        "4. Boolean\n",
        "5. dictionary"
      ],
      "metadata": {
        "id": "ZppOY-wJoZAw"
      },
      "execution_count": null,
      "outputs": []
    },
    {
      "cell_type": "code",
      "source": [
        "1. String =>  x = \"Hello World\"\n",
        "2. Integers => x = 20 / Float => x = 20.5\n",
        "3. Lists => x = [\"Demid\", \"Andrew\",\"Abel\"]\n",
        "4. x = True or False\n",
        "5. x = {\"name\" : \"Abel\", \"age\": 20}"
      ],
      "metadata": {
        "id": "bfqupl2CovFV"
      },
      "execution_count": null,
      "outputs": []
    },
    {
      "cell_type": "code",
      "source": [
        "Operators\n",
        "1. addition => +\n",
        "2. Substraction => -\n",
        "3. Multiplication => *\n",
        "4. division => /\n",
        "5. modulos => % ( calculates the remainder of a division operation) eg. 5%2 = 1\n",
        "6. Floor division => // (when the division is rounded to the nearest floor whole number) eg 5//2 = 2\n",
        "7. Exponentiation => ** eg . 2**2"
      ],
      "metadata": {
        "id": "XcEHEzzEq4Ru"
      },
      "execution_count": null,
      "outputs": []
    },
    {
      "cell_type": "code",
      "source": [
        "156/2"
      ],
      "metadata": {
        "colab": {
          "base_uri": "https://localhost:8080/"
        },
        "id": "SMlUW-XStYOY",
        "outputId": "2773b24c-4d80-485d-870f-c514bdb676cc"
      },
      "execution_count": null,
      "outputs": [
        {
          "output_type": "execute_result",
          "data": {
            "text/plain": [
              "78.0"
            ]
          },
          "metadata": {},
          "execution_count": 9
        }
      ]
    },
    {
      "cell_type": "code",
      "source": [
        "a = 100  # first sum given by Petya\n",
        "b = 56   # second remainder given by Petya\n",
        "\n",
        "c = ((a + b) // 2)  # calculating the first integer Petya had in mind\n",
        "\n",
        "Sum = x + y = 100 =a\n",
        "Diff = x -y =56 =b\n",
        "\n",
        "Sum + diff = (x+y) +(x-y)\n",
        "100+56 = 2x\n",
        "156= 2x\n",
        "x= 156/2\n",
        "x= 78\n",
        "\n",
        "x+y =100\n",
        "78+y=100\n",
        "y =100-78\n",
        "y= 22\n"
      ],
      "metadata": {
        "id": "X59WBHxzuVxn"
      },
      "execution_count": null,
      "outputs": []
    },
    {
      "cell_type": "code",
      "source": [
        "a = 100\n",
        "b=56\n",
        "\n",
        "c =((a+b)//2)\n",
        "d=  a -c\n",
        "print(c)\n",
        "print(d)\n"
      ],
      "metadata": {
        "colab": {
          "base_uri": "https://localhost:8080/"
        },
        "id": "RZCwc76wx4OX",
        "outputId": "ca92f928-6a03-4dbc-8d00-ee00afc80ed2"
      },
      "execution_count": null,
      "outputs": [
        {
          "output_type": "stream",
          "name": "stdout",
          "text": [
            "78\n",
            "22\n"
          ]
        }
      ]
    },
    {
      "cell_type": "code",
      "source": [
        "#Task 2\n",
        "# Input two natural numbers A and B\n",
        "\n",
        "A = int(input()) #lets you generate your own value\n",
        "B = int(input())\n",
        "\n",
        "#swap using tuple unpacking\n",
        "\n",
        "A, B = B, A\n",
        "\n",
        "# Print the values in one line\n",
        "print(A, B)"
      ],
      "metadata": {
        "colab": {
          "base_uri": "https://localhost:8080/"
        },
        "id": "ygfpGoIA4csC",
        "outputId": "893a1521-8218-428c-9b12-178cc7551b2a"
      },
      "execution_count": null,
      "outputs": [
        {
          "output_type": "stream",
          "name": "stdout",
          "text": [
            "1\n",
            "4\n",
            "4 1\n"
          ]
        }
      ]
    },
    {
      "cell_type": "code",
      "source": [
        "# Task 3\n",
        "# Input three integers  A, B and C\n",
        "\n",
        "A = int(input())\n",
        "B = int(input())\n",
        "C = int(input())\n",
        "\n",
        "#swap using tuple unpacking\n",
        "A,B, C = B,C,A\n",
        "\n",
        "#Print the values\n",
        "print(A,B,C)"
      ],
      "metadata": {
        "colab": {
          "base_uri": "https://localhost:8080/"
        },
        "id": "HgCKXWBM9D8s",
        "outputId": "7c01e61b-8677-4133-a8bb-fc0ecf9ad177"
      },
      "execution_count": null,
      "outputs": [
        {
          "output_type": "stream",
          "name": "stdout",
          "text": [
            "4\n",
            "3\n",
            "2\n",
            "3 2 4\n"
          ]
        }
      ]
    },
    {
      "cell_type": "code",
      "source": [
        "#Task 4\n",
        "# Input three integers A, B, C\n",
        "A = int(input())  # Enter first number\n",
        "B = int(input())  # Enter second number\n",
        "C = int(input())  # Enter third number\n",
        "\n",
        "# Assign each variable the sum of the other two\n",
        "A_new = B + C\n",
        "B_New = A + C\n",
        "C_New = A + B\n",
        "\n",
        "#print\n",
        "\n",
        "print(A_new, B_New,C_New)"
      ],
      "metadata": {
        "colab": {
          "base_uri": "https://localhost:8080/"
        },
        "id": "5IiO0zsz_IMM",
        "outputId": "5569c7f1-b1d3-4198-9ee2-fe61e6cf7ce7"
      },
      "execution_count": null,
      "outputs": [
        {
          "output_type": "stream",
          "name": "stdout",
          "text": [
            "1\n",
            "2\n",
            "3\n",
            "5 4 3\n"
          ]
        }
      ]
    },
    {
      "cell_type": "code",
      "source": [
        "#Task 5\n",
        "#Assign the original places\n",
        "place_1 = 'Jack'\n",
        "place_2 = 'Bill'\n",
        "place_3 = 'Max'\n",
        "\n",
        "#using tuple unpacking\n",
        "place_1 ,place_2 ,place_3 = 'Bill','Max','Jack'\n",
        "\n",
        "print(place_1,place_2,place_3)\n",
        "\n"
      ],
      "metadata": {
        "colab": {
          "base_uri": "https://localhost:8080/"
        },
        "id": "7bIDGG-pBNY8",
        "outputId": "141525a0-3d01-4601-ede3-e137a52e4492"
      },
      "execution_count": null,
      "outputs": [
        {
          "output_type": "stream",
          "name": "stdout",
          "text": [
            "Bill Max Jack\n"
          ]
        }
      ]
    },
    {
      "cell_type": "code",
      "source": [
        "#If else statement\n",
        "#a logical way of doing things\n",
        "#if it is raining , i take an umbrella else i dont take an umbrella\n",
        "\n",
        "if (\"condition\"):\n",
        "  \"do this\"\n",
        "else:\n",
        "  \"do that\"\n",
        "\n",
        "if (\"It is raining\"):\n",
        "  \"take an umbrella\"\n",
        "else:\n",
        "  \"dont take an umbrella\""
      ],
      "metadata": {
        "id": "arlF9UctCwC7"
      },
      "execution_count": null,
      "outputs": []
    },
    {
      "cell_type": "code",
      "source": [
        "a = 200\n",
        "b = 300\n",
        "\n",
        "if a > b:\n",
        "  print(\"Yes a is greater\")\n",
        "else:\n",
        "  print(\"NO b is greater\")\n",
        "\n",
        "\n",
        "if (\"lillian is fair\"):\n",
        "  \"Type Yes\"\n",
        "else:\n",
        "  \"Type No\"\n",
        "\n"
      ],
      "metadata": {
        "colab": {
          "base_uri": "https://localhost:8080/"
        },
        "id": "Ov_yKL6wEHMR",
        "outputId": "155d3537-39f8-43ea-e820-01bacd2b7911"
      },
      "execution_count": null,
      "outputs": [
        {
          "output_type": "stream",
          "name": "stdout",
          "text": [
            "NO b is greater\n"
          ]
        }
      ]
    },
    {
      "cell_type": "code",
      "source": [
        "a = 33\n",
        "b = 200\n",
        "if b > a:\n",
        "  print(\"b is greater than a\")\n",
        "else:\n",
        "  print(\"a is greater than b\")"
      ],
      "metadata": {
        "id": "2b-za2UmQ30d"
      },
      "execution_count": null,
      "outputs": []
    },
    {
      "cell_type": "code",
      "source": [
        "# Elif\n",
        "a = 33\n",
        "b = 32\n",
        "if b > a:\n",
        "  print(\"b is greater than a\")\n",
        "elif a == b:\n",
        "  print(\"a and b are equal\")\n",
        "else :\n",
        "  print(\"a is less than b\")"
      ],
      "metadata": {
        "colab": {
          "base_uri": "https://localhost:8080/"
        },
        "id": "J8qlTDPvRci6",
        "outputId": "734bb665-9a2c-4a41-99e6-3a785fcebff4"
      },
      "execution_count": null,
      "outputs": [
        {
          "output_type": "stream",
          "name": "stdout",
          "text": [
            "a is less than b\n"
          ]
        }
      ]
    },
    {
      "cell_type": "code",
      "source": [
        "# = assignment operator\n",
        "# == comparism operator"
      ],
      "metadata": {
        "id": "4DDIfw5lTLCh"
      },
      "execution_count": null,
      "outputs": []
    },
    {
      "cell_type": "code",
      "source": [
        "if (\"It is raining\"):\n",
        "  \"take an umbrella\"\n",
        "elif (\"it is snowing\"):\n",
        "  \"wear a winter jacket\"\n",
        "elif (\"it is sunny\"):\n",
        "  \"wear a light clothes\"\n",
        "else:\n",
        "  \"dont wear anything at all\""
      ],
      "metadata": {
        "id": "PbIVKNBpR8Qa"
      },
      "execution_count": null,
      "outputs": []
    },
    {
      "cell_type": "code",
      "source": [
        "#Python Loops\n",
        "#Python has two primitive loop commands:\n",
        "\n",
        "#while loops\n",
        "#for loops\n"
      ],
      "metadata": {
        "id": "Fis_vDW1WOCL"
      },
      "execution_count": null,
      "outputs": []
    },
    {
      "cell_type": "code",
      "source": [
        "Salt = 5\n",
        "Sugar = 4\n",
        "\n",
        "Temporary_container = Sugar\n",
        "\n",
        "Sugar = Salt\n",
        "Salt = Temporary_container\n",
        "\n",
        "print(Sugar,Salt)"
      ],
      "metadata": {
        "id": "9vsYGoW3XAhe"
      },
      "execution_count": null,
      "outputs": []
    },
    {
      "cell_type": "code",
      "source": [
        "#Task 2\n",
        "# Enter two natural numbers A and B, each in its own row.\n",
        "# Exchange values without using an auxiliary variable.\n",
        "# Print the values of the variables in one line.\n",
        "A = int(input())\n",
        "B = int(input())\n",
        "\n",
        "#Tuple unpacking to swap values\n",
        "\n",
        "A, B = B ,A\n",
        "\n",
        "#print swap values\n",
        "print(A,B)"
      ],
      "metadata": {
        "colab": {
          "base_uri": "https://localhost:8080/"
        },
        "id": "PMC48TdDo4hN",
        "outputId": "4ab34d0a-83f7-41bd-804e-74f9745edcd7"
      },
      "execution_count": null,
      "outputs": [
        {
          "output_type": "stream",
          "name": "stdout",
          "text": [
            "7\n",
            "5\n",
            "5 7\n"
          ]
        }
      ]
    },
    {
      "cell_type": "code",
      "source": [
        "#Task 3\n",
        "#Enter three integers A,B,and C.\n",
        "# Exchange values without an auxiliary variable and print them.\n",
        "A = int(input())\n",
        "B = int(input())\n",
        "C = int(input())\n",
        "\n",
        "A ,B , C = B , C, A\n",
        "\n",
        "print(A, B,C)"
      ],
      "metadata": {
        "colab": {
          "base_uri": "https://localhost:8080/"
        },
        "id": "HihM9GN5qHX8",
        "outputId": "3a940525-ceb9-486a-9bd8-d85e100aba72"
      },
      "execution_count": null,
      "outputs": [
        {
          "output_type": "stream",
          "name": "stdout",
          "text": [
            "1\n",
            "2\n",
            "3\n",
            "2 3 1\n"
          ]
        }
      ]
    },
    {
      "cell_type": "code",
      "source": [
        "#Task 4 - First approach\n",
        "\n",
        "#Task: Enter three integers A,𝐵,𝐶.\n",
        "# Assign each variable the value of the sum of the other two.\n",
        "# Print the variables.\n",
        "\n",
        "A = int(input())\n",
        "B = int(input())\n",
        "C = int(input())\n",
        "\n",
        "A_New = B+C\n",
        "B_New = A+C\n",
        "C_New = B+A\n",
        "\n",
        "A, B, C = B+C ,A+C ,B+A\n",
        "\n",
        "\n",
        "print(A_New,B_New,C_New)"
      ],
      "metadata": {
        "colab": {
          "base_uri": "https://localhost:8080/"
        },
        "id": "76jJ9ag3sVEK",
        "outputId": "9830e3e5-8b69-416e-c321-791f0ba70fa1"
      },
      "execution_count": null,
      "outputs": [
        {
          "output_type": "stream",
          "name": "stdout",
          "text": [
            "1\n",
            "2\n",
            "3\n",
            "5 4 3\n"
          ]
        }
      ]
    },
    {
      "cell_type": "code",
      "source": [
        "#Task 4 - Second approach\n",
        "\n",
        "#Task: Enter three integers A,𝐵,𝐶.\n",
        "# Assign each variable the value of the sum of the other two.\n",
        "# Print the variables.\n",
        "\n",
        "A = int(input())\n",
        "B = int(input())\n",
        "C = int(input())\n",
        "\n",
        "\n",
        "A, B, C = B+C ,A+C ,B+A\n",
        "\n",
        "\n",
        "print(A,B,C)"
      ],
      "metadata": {
        "id": "NMA1EClRuifj"
      },
      "execution_count": null,
      "outputs": []
    },
    {
      "cell_type": "code",
      "source": [
        "#Task 5\n",
        "# There are three participants in a contest: Jack, Bill, and Max.\n",
        "# The correct order should be: Bill, Max, Jack.\n",
        "\n",
        "place_1 = 'Jack'\n",
        "place_2 = 'Bill'\n",
        "place_3 = 'Max'\n",
        "\n",
        "# Swap places\n",
        "place_1, place_2, place_3 = place_2, place_3, place_1\n",
        "\n",
        "# Print the new order\n",
        "print(place_1, place_2, place_3)\n",
        "\n"
      ],
      "metadata": {
        "colab": {
          "base_uri": "https://localhost:8080/"
        },
        "id": "0SLE3-FRu2sc",
        "outputId": "256ac420-5c8d-4230-b9e8-3a714fded4e6"
      },
      "execution_count": null,
      "outputs": [
        {
          "output_type": "stream",
          "name": "stdout",
          "text": [
            "Bill Max Jack\n"
          ]
        }
      ]
    },
    {
      "cell_type": "code",
      "source": [
        "#TAsk 6\n",
        "#Task 6\n",
        "#Prompt the user for an integer.\n",
        "#Create an expression checking whether the user's input is\n",
        "#larger than 0 and smaller than 100.\n",
        "#Output should return \"True\" or \"False\"\n",
        "\n",
        "A = int(input())\n",
        "\n",
        "result = 0 < A < 100\n",
        "\n",
        "print(result)\n"
      ],
      "metadata": {
        "colab": {
          "base_uri": "https://localhost:8080/"
        },
        "id": "C_Dv0n_2wAHM",
        "outputId": "9e214ecc-951c-4647-8a43-2460a077bd3b"
      },
      "execution_count": null,
      "outputs": [
        {
          "output_type": "stream",
          "name": "stdout",
          "text": [
            "-10\n",
            "False\n"
          ]
        }
      ]
    },
    {
      "cell_type": "code",
      "source": [
        "#Task 7\n",
        "#Prompt the user for three integers.\n",
        "# If two of them are equal or all are equal, print \"True\".5\n",
        "# Otherwise, print \"False\".\n",
        "\n",
        "A = int(input())\n",
        "B = int(input())\n",
        "C = int(input())\n",
        "\n",
        "if A == B or B == C or A == C:\n",
        "  print(\"True\")\n",
        "else:\n",
        "  print(\"False\")"
      ],
      "metadata": {
        "colab": {
          "base_uri": "https://localhost:8080/"
        },
        "id": "knxLKr1rzl6e",
        "outputId": "81324af4-66c5-4531-f706-73a7b6a1ac1b"
      },
      "execution_count": null,
      "outputs": [
        {
          "output_type": "stream",
          "name": "stdout",
          "text": [
            "5\n",
            "5\n",
            "5\n",
            "True\n"
          ]
        }
      ]
    }
  ]
}